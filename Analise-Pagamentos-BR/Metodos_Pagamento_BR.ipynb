{
 "cells": [
  {
   "cell_type": "markdown",
   "metadata": {},
   "source": [
    "# Métodos de Pagamento Brasileiros"
   ]
  },
  {
   "cell_type": "markdown",
   "metadata": {},
   "source": [
    "## Imports"
   ]
  },
  {
   "cell_type": "code",
   "execution_count": null,
   "metadata": {},
   "outputs": [],
   "source": [
    "import pandas as pd\n",
    "import numpy as np \n",
    "import matplotlib.pyplot as plt"
   ]
  },
  {
   "cell_type": "code",
   "execution_count": null,
   "metadata": {},
   "outputs": [],
   "source": [
    "# importando arquivo csv\n",
    "brpag = pd.read_csv('https://docs.google.com/spreadsheets/d/e/2PACX-1vSspKoQw8kOb8FdNECT10pWcKht2xiWJdLOhWFxKhNfGBEfhQFf44g_VpH0Sr1oCgfq1_Nt0AYhdrVR/pub?gid=1553293454&single=true&output=csv')"
   ]
  },
  {
   "cell_type": "code",
   "execution_count": null,
   "metadata": {},
   "outputs": [
    {
     "data": {
      "text/html": [
       "<div>\n",
       "<style scoped>\n",
       "    .dataframe tbody tr th:only-of-type {\n",
       "        vertical-align: middle;\n",
       "    }\n",
       "\n",
       "    .dataframe tbody tr th {\n",
       "        vertical-align: top;\n",
       "    }\n",
       "\n",
       "    .dataframe thead th {\n",
       "        text-align: right;\n",
       "    }\n",
       "</style>\n",
       "<table border=\"1\" class=\"dataframe\">\n",
       "  <thead>\n",
       "    <tr style=\"text-align: right;\">\n",
       "      <th></th>\n",
       "      <th>YearMonth</th>\n",
       "      <th>quantityPix</th>\n",
       "      <th>valuePix</th>\n",
       "      <th>quantityTED</th>\n",
       "      <th>valueTED</th>\n",
       "      <th>quantityTEC</th>\n",
       "      <th>valueTEC</th>\n",
       "      <th>quantityBankCheck</th>\n",
       "      <th>valueBankCheck</th>\n",
       "      <th>quantityBrazilianBoletoPayment</th>\n",
       "      <th>valueBrazilianBoletoPayment</th>\n",
       "      <th>quantityDOC</th>\n",
       "      <th>valueDOC</th>\n",
       "    </tr>\n",
       "  </thead>\n",
       "  <tbody>\n",
       "    <tr>\n",
       "      <th>0</th>\n",
       "      <td>202405</td>\n",
       "      <td>5228826.97</td>\n",
       "      <td>2137205.79</td>\n",
       "      <td>69023.11</td>\n",
       "      <td>3482036.97</td>\n",
       "      <td>0.00</td>\n",
       "      <td>0.00</td>\n",
       "      <td>10467.85</td>\n",
       "      <td>40133.55</td>\n",
       "      <td>349180.92</td>\n",
       "      <td>506302.82</td>\n",
       "      <td>0.00</td>\n",
       "      <td>0.00</td>\n",
       "    </tr>\n",
       "    <tr>\n",
       "      <th>1</th>\n",
       "      <td>202404</td>\n",
       "      <td>4924681.00</td>\n",
       "      <td>2083746.68</td>\n",
       "      <td>70647.15</td>\n",
       "      <td>3652606.48</td>\n",
       "      <td>0.00</td>\n",
       "      <td>0.00</td>\n",
       "      <td>11179.22</td>\n",
       "      <td>43295.40</td>\n",
       "      <td>361633.28</td>\n",
       "      <td>524619.69</td>\n",
       "      <td>0.00</td>\n",
       "      <td>0.00</td>\n",
       "    </tr>\n",
       "    <tr>\n",
       "      <th>2</th>\n",
       "      <td>202403</td>\n",
       "      <td>4903392.34</td>\n",
       "      <td>1936188.21</td>\n",
       "      <td>67565.05</td>\n",
       "      <td>3333054.27</td>\n",
       "      <td>0.00</td>\n",
       "      <td>0.00</td>\n",
       "      <td>10122.46</td>\n",
       "      <td>36644.55</td>\n",
       "      <td>336435.46</td>\n",
       "      <td>469047.59</td>\n",
       "      <td>0.00</td>\n",
       "      <td>0.00</td>\n",
       "    </tr>\n",
       "    <tr>\n",
       "      <th>3</th>\n",
       "      <td>202402</td>\n",
       "      <td>4367133.78</td>\n",
       "      <td>1718217.65</td>\n",
       "      <td>65805.87</td>\n",
       "      <td>2981226.45</td>\n",
       "      <td>60.01</td>\n",
       "      <td>109.32</td>\n",
       "      <td>10373.38</td>\n",
       "      <td>37076.26</td>\n",
       "      <td>332269.47</td>\n",
       "      <td>463066.01</td>\n",
       "      <td>61.89</td>\n",
       "      <td>34.21</td>\n",
       "    </tr>\n",
       "    <tr>\n",
       "      <th>4</th>\n",
       "      <td>202401</td>\n",
       "      <td>4371541.99</td>\n",
       "      <td>1818473.97</td>\n",
       "      <td>70343.25</td>\n",
       "      <td>3337344.85</td>\n",
       "      <td>387.18</td>\n",
       "      <td>815.94</td>\n",
       "      <td>11919.12</td>\n",
       "      <td>41615.89</td>\n",
       "      <td>363550.32</td>\n",
       "      <td>516702.44</td>\n",
       "      <td>600.76</td>\n",
       "      <td>616.58</td>\n",
       "    </tr>\n",
       "    <tr>\n",
       "      <th>...</th>\n",
       "      <td>...</td>\n",
       "      <td>...</td>\n",
       "      <td>...</td>\n",
       "      <td>...</td>\n",
       "      <td>...</td>\n",
       "      <td>...</td>\n",
       "      <td>...</td>\n",
       "      <td>...</td>\n",
       "      <td>...</td>\n",
       "      <td>...</td>\n",
       "      <td>...</td>\n",
       "      <td>...</td>\n",
       "      <td>...</td>\n",
       "    </tr>\n",
       "    <tr>\n",
       "      <th>96</th>\n",
       "      <td>201605</td>\n",
       "      <td>0.00</td>\n",
       "      <td>0.00</td>\n",
       "      <td>38397.79</td>\n",
       "      <td>1284857.76</td>\n",
       "      <td>658.08</td>\n",
       "      <td>1242.92</td>\n",
       "      <td>49391.10</td>\n",
       "      <td>85525.27</td>\n",
       "      <td>210245.33</td>\n",
       "      <td>243361.74</td>\n",
       "      <td>15222.38</td>\n",
       "      <td>12172.78</td>\n",
       "    </tr>\n",
       "    <tr>\n",
       "      <th>97</th>\n",
       "      <td>201604</td>\n",
       "      <td>0.00</td>\n",
       "      <td>0.00</td>\n",
       "      <td>36144.63</td>\n",
       "      <td>1284108.75</td>\n",
       "      <td>586.71</td>\n",
       "      <td>1029.40</td>\n",
       "      <td>45938.34</td>\n",
       "      <td>79444.79</td>\n",
       "      <td>195789.71</td>\n",
       "      <td>226725.92</td>\n",
       "      <td>14376.42</td>\n",
       "      <td>11632.65</td>\n",
       "    </tr>\n",
       "    <tr>\n",
       "      <th>98</th>\n",
       "      <td>201603</td>\n",
       "      <td>0.00</td>\n",
       "      <td>0.00</td>\n",
       "      <td>37762.98</td>\n",
       "      <td>1387738.67</td>\n",
       "      <td>666.89</td>\n",
       "      <td>1250.64</td>\n",
       "      <td>50443.05</td>\n",
       "      <td>85203.32</td>\n",
       "      <td>207938.76</td>\n",
       "      <td>239690.04</td>\n",
       "      <td>15322.97</td>\n",
       "      <td>12303.86</td>\n",
       "    </tr>\n",
       "    <tr>\n",
       "      <th>99</th>\n",
       "      <td>201602</td>\n",
       "      <td>0.00</td>\n",
       "      <td>0.00</td>\n",
       "      <td>33986.29</td>\n",
       "      <td>1184928.57</td>\n",
       "      <td>576.42</td>\n",
       "      <td>1079.27</td>\n",
       "      <td>46957.82</td>\n",
       "      <td>79927.23</td>\n",
       "      <td>197575.71</td>\n",
       "      <td>225107.82</td>\n",
       "      <td>14455.60</td>\n",
       "      <td>11778.74</td>\n",
       "    </tr>\n",
       "    <tr>\n",
       "      <th>100</th>\n",
       "      <td>201601</td>\n",
       "      <td>0.00</td>\n",
       "      <td>0.00</td>\n",
       "      <td>30728.99</td>\n",
       "      <td>1211165.94</td>\n",
       "      <td>499.31</td>\n",
       "      <td>939.45</td>\n",
       "      <td>45294.31</td>\n",
       "      <td>82800.04</td>\n",
       "      <td>189912.22</td>\n",
       "      <td>222612.29</td>\n",
       "      <td>15709.98</td>\n",
       "      <td>12016.73</td>\n",
       "    </tr>\n",
       "  </tbody>\n",
       "</table>\n",
       "<p>101 rows × 13 columns</p>\n",
       "</div>"
      ],
      "text/plain": [
       "     YearMonth  quantityPix    valuePix  quantityTED    valueTED  quantityTEC  \\\n",
       "0       202405   5228826.97  2137205.79     69023.11  3482036.97         0.00   \n",
       "1       202404   4924681.00  2083746.68     70647.15  3652606.48         0.00   \n",
       "2       202403   4903392.34  1936188.21     67565.05  3333054.27         0.00   \n",
       "3       202402   4367133.78  1718217.65     65805.87  2981226.45        60.01   \n",
       "4       202401   4371541.99  1818473.97     70343.25  3337344.85       387.18   \n",
       "..         ...          ...         ...          ...         ...          ...   \n",
       "96      201605         0.00        0.00     38397.79  1284857.76       658.08   \n",
       "97      201604         0.00        0.00     36144.63  1284108.75       586.71   \n",
       "98      201603         0.00        0.00     37762.98  1387738.67       666.89   \n",
       "99      201602         0.00        0.00     33986.29  1184928.57       576.42   \n",
       "100     201601         0.00        0.00     30728.99  1211165.94       499.31   \n",
       "\n",
       "     valueTEC  quantityBankCheck  valueBankCheck  \\\n",
       "0        0.00           10467.85        40133.55   \n",
       "1        0.00           11179.22        43295.40   \n",
       "2        0.00           10122.46        36644.55   \n",
       "3      109.32           10373.38        37076.26   \n",
       "4      815.94           11919.12        41615.89   \n",
       "..        ...                ...             ...   \n",
       "96    1242.92           49391.10        85525.27   \n",
       "97    1029.40           45938.34        79444.79   \n",
       "98    1250.64           50443.05        85203.32   \n",
       "99    1079.27           46957.82        79927.23   \n",
       "100    939.45           45294.31        82800.04   \n",
       "\n",
       "     quantityBrazilianBoletoPayment  valueBrazilianBoletoPayment  quantityDOC  \\\n",
       "0                         349180.92                    506302.82         0.00   \n",
       "1                         361633.28                    524619.69         0.00   \n",
       "2                         336435.46                    469047.59         0.00   \n",
       "3                         332269.47                    463066.01        61.89   \n",
       "4                         363550.32                    516702.44       600.76   \n",
       "..                              ...                          ...          ...   \n",
       "96                        210245.33                    243361.74     15222.38   \n",
       "97                        195789.71                    226725.92     14376.42   \n",
       "98                        207938.76                    239690.04     15322.97   \n",
       "99                        197575.71                    225107.82     14455.60   \n",
       "100                       189912.22                    222612.29     15709.98   \n",
       "\n",
       "     valueDOC  \n",
       "0        0.00  \n",
       "1        0.00  \n",
       "2        0.00  \n",
       "3       34.21  \n",
       "4      616.58  \n",
       "..        ...  \n",
       "96   12172.78  \n",
       "97   11632.65  \n",
       "98   12303.86  \n",
       "99   11778.74  \n",
       "100  12016.73  \n",
       "\n",
       "[101 rows x 13 columns]"
      ]
     },
     "metadata": {},
     "output_type": "display_data"
    }
   ],
   "source": [
    "# nomeando df\n",
    "df = pd.DataFrame(brpag)\n",
    "display(df)"
   ]
  },
  {
   "cell_type": "markdown",
   "metadata": {},
   "source": [
    "## Troca dos Nomes das Colunas para Português"
   ]
  },
  {
   "cell_type": "code",
   "execution_count": 120,
   "metadata": {},
   "outputs": [
    {
     "data": {
      "text/html": [
       "<div>\n",
       "<style scoped>\n",
       "    .dataframe tbody tr th:only-of-type {\n",
       "        vertical-align: middle;\n",
       "    }\n",
       "\n",
       "    .dataframe tbody tr th {\n",
       "        vertical-align: top;\n",
       "    }\n",
       "\n",
       "    .dataframe thead th {\n",
       "        text-align: right;\n",
       "    }\n",
       "</style>\n",
       "<table border=\"1\" class=\"dataframe\">\n",
       "  <thead>\n",
       "    <tr style=\"text-align: right;\">\n",
       "      <th></th>\n",
       "      <th>AnoMes</th>\n",
       "      <th>qtdPIX</th>\n",
       "      <th>valortotalPIX</th>\n",
       "      <th>qtdTED</th>\n",
       "      <th>valortotalTED</th>\n",
       "      <th>qtdTEC</th>\n",
       "      <th>valueTEC</th>\n",
       "      <th>qtdCheque</th>\n",
       "      <th>valortotalCheque</th>\n",
       "      <th>qtdBoleto</th>\n",
       "      <th>valortotalBoleto</th>\n",
       "      <th>qtdDOC</th>\n",
       "      <th>valortotalDOC</th>\n",
       "    </tr>\n",
       "  </thead>\n",
       "  <tbody>\n",
       "    <tr>\n",
       "      <th>0</th>\n",
       "      <td>202405</td>\n",
       "      <td>5228826.97</td>\n",
       "      <td>2137205.79</td>\n",
       "      <td>69023.11</td>\n",
       "      <td>3482036.97</td>\n",
       "      <td>0.00</td>\n",
       "      <td>0.00</td>\n",
       "      <td>10467.85</td>\n",
       "      <td>40133.55</td>\n",
       "      <td>349180.92</td>\n",
       "      <td>506302.82</td>\n",
       "      <td>0.00</td>\n",
       "      <td>0.00</td>\n",
       "    </tr>\n",
       "    <tr>\n",
       "      <th>1</th>\n",
       "      <td>202404</td>\n",
       "      <td>4924681.00</td>\n",
       "      <td>2083746.68</td>\n",
       "      <td>70647.15</td>\n",
       "      <td>3652606.48</td>\n",
       "      <td>0.00</td>\n",
       "      <td>0.00</td>\n",
       "      <td>11179.22</td>\n",
       "      <td>43295.40</td>\n",
       "      <td>361633.28</td>\n",
       "      <td>524619.69</td>\n",
       "      <td>0.00</td>\n",
       "      <td>0.00</td>\n",
       "    </tr>\n",
       "    <tr>\n",
       "      <th>2</th>\n",
       "      <td>202403</td>\n",
       "      <td>4903392.34</td>\n",
       "      <td>1936188.21</td>\n",
       "      <td>67565.05</td>\n",
       "      <td>3333054.27</td>\n",
       "      <td>0.00</td>\n",
       "      <td>0.00</td>\n",
       "      <td>10122.46</td>\n",
       "      <td>36644.55</td>\n",
       "      <td>336435.46</td>\n",
       "      <td>469047.59</td>\n",
       "      <td>0.00</td>\n",
       "      <td>0.00</td>\n",
       "    </tr>\n",
       "    <tr>\n",
       "      <th>3</th>\n",
       "      <td>202402</td>\n",
       "      <td>4367133.78</td>\n",
       "      <td>1718217.65</td>\n",
       "      <td>65805.87</td>\n",
       "      <td>2981226.45</td>\n",
       "      <td>60.01</td>\n",
       "      <td>109.32</td>\n",
       "      <td>10373.38</td>\n",
       "      <td>37076.26</td>\n",
       "      <td>332269.47</td>\n",
       "      <td>463066.01</td>\n",
       "      <td>61.89</td>\n",
       "      <td>34.21</td>\n",
       "    </tr>\n",
       "    <tr>\n",
       "      <th>4</th>\n",
       "      <td>202401</td>\n",
       "      <td>4371541.99</td>\n",
       "      <td>1818473.97</td>\n",
       "      <td>70343.25</td>\n",
       "      <td>3337344.85</td>\n",
       "      <td>387.18</td>\n",
       "      <td>815.94</td>\n",
       "      <td>11919.12</td>\n",
       "      <td>41615.89</td>\n",
       "      <td>363550.32</td>\n",
       "      <td>516702.44</td>\n",
       "      <td>600.76</td>\n",
       "      <td>616.58</td>\n",
       "    </tr>\n",
       "    <tr>\n",
       "      <th>...</th>\n",
       "      <td>...</td>\n",
       "      <td>...</td>\n",
       "      <td>...</td>\n",
       "      <td>...</td>\n",
       "      <td>...</td>\n",
       "      <td>...</td>\n",
       "      <td>...</td>\n",
       "      <td>...</td>\n",
       "      <td>...</td>\n",
       "      <td>...</td>\n",
       "      <td>...</td>\n",
       "      <td>...</td>\n",
       "      <td>...</td>\n",
       "    </tr>\n",
       "    <tr>\n",
       "      <th>96</th>\n",
       "      <td>201605</td>\n",
       "      <td>0.00</td>\n",
       "      <td>0.00</td>\n",
       "      <td>38397.79</td>\n",
       "      <td>1284857.76</td>\n",
       "      <td>658.08</td>\n",
       "      <td>1242.92</td>\n",
       "      <td>49391.10</td>\n",
       "      <td>85525.27</td>\n",
       "      <td>210245.33</td>\n",
       "      <td>243361.74</td>\n",
       "      <td>15222.38</td>\n",
       "      <td>12172.78</td>\n",
       "    </tr>\n",
       "    <tr>\n",
       "      <th>97</th>\n",
       "      <td>201604</td>\n",
       "      <td>0.00</td>\n",
       "      <td>0.00</td>\n",
       "      <td>36144.63</td>\n",
       "      <td>1284108.75</td>\n",
       "      <td>586.71</td>\n",
       "      <td>1029.40</td>\n",
       "      <td>45938.34</td>\n",
       "      <td>79444.79</td>\n",
       "      <td>195789.71</td>\n",
       "      <td>226725.92</td>\n",
       "      <td>14376.42</td>\n",
       "      <td>11632.65</td>\n",
       "    </tr>\n",
       "    <tr>\n",
       "      <th>98</th>\n",
       "      <td>201603</td>\n",
       "      <td>0.00</td>\n",
       "      <td>0.00</td>\n",
       "      <td>37762.98</td>\n",
       "      <td>1387738.67</td>\n",
       "      <td>666.89</td>\n",
       "      <td>1250.64</td>\n",
       "      <td>50443.05</td>\n",
       "      <td>85203.32</td>\n",
       "      <td>207938.76</td>\n",
       "      <td>239690.04</td>\n",
       "      <td>15322.97</td>\n",
       "      <td>12303.86</td>\n",
       "    </tr>\n",
       "    <tr>\n",
       "      <th>99</th>\n",
       "      <td>201602</td>\n",
       "      <td>0.00</td>\n",
       "      <td>0.00</td>\n",
       "      <td>33986.29</td>\n",
       "      <td>1184928.57</td>\n",
       "      <td>576.42</td>\n",
       "      <td>1079.27</td>\n",
       "      <td>46957.82</td>\n",
       "      <td>79927.23</td>\n",
       "      <td>197575.71</td>\n",
       "      <td>225107.82</td>\n",
       "      <td>14455.60</td>\n",
       "      <td>11778.74</td>\n",
       "    </tr>\n",
       "    <tr>\n",
       "      <th>100</th>\n",
       "      <td>201601</td>\n",
       "      <td>0.00</td>\n",
       "      <td>0.00</td>\n",
       "      <td>30728.99</td>\n",
       "      <td>1211165.94</td>\n",
       "      <td>499.31</td>\n",
       "      <td>939.45</td>\n",
       "      <td>45294.31</td>\n",
       "      <td>82800.04</td>\n",
       "      <td>189912.22</td>\n",
       "      <td>222612.29</td>\n",
       "      <td>15709.98</td>\n",
       "      <td>12016.73</td>\n",
       "    </tr>\n",
       "  </tbody>\n",
       "</table>\n",
       "<p>101 rows × 13 columns</p>\n",
       "</div>"
      ],
      "text/plain": [
       "     AnoMes      qtdPIX  valortotalPIX    qtdTED  valortotalTED  qtdTEC  \\\n",
       "0    202405  5228826.97     2137205.79  69023.11     3482036.97    0.00   \n",
       "1    202404  4924681.00     2083746.68  70647.15     3652606.48    0.00   \n",
       "2    202403  4903392.34     1936188.21  67565.05     3333054.27    0.00   \n",
       "3    202402  4367133.78     1718217.65  65805.87     2981226.45   60.01   \n",
       "4    202401  4371541.99     1818473.97  70343.25     3337344.85  387.18   \n",
       "..      ...         ...            ...       ...            ...     ...   \n",
       "96   201605        0.00           0.00  38397.79     1284857.76  658.08   \n",
       "97   201604        0.00           0.00  36144.63     1284108.75  586.71   \n",
       "98   201603        0.00           0.00  37762.98     1387738.67  666.89   \n",
       "99   201602        0.00           0.00  33986.29     1184928.57  576.42   \n",
       "100  201601        0.00           0.00  30728.99     1211165.94  499.31   \n",
       "\n",
       "     valueTEC  qtdCheque  valortotalCheque  qtdBoleto  valortotalBoleto  \\\n",
       "0        0.00   10467.85          40133.55  349180.92         506302.82   \n",
       "1        0.00   11179.22          43295.40  361633.28         524619.69   \n",
       "2        0.00   10122.46          36644.55  336435.46         469047.59   \n",
       "3      109.32   10373.38          37076.26  332269.47         463066.01   \n",
       "4      815.94   11919.12          41615.89  363550.32         516702.44   \n",
       "..        ...        ...               ...        ...               ...   \n",
       "96    1242.92   49391.10          85525.27  210245.33         243361.74   \n",
       "97    1029.40   45938.34          79444.79  195789.71         226725.92   \n",
       "98    1250.64   50443.05          85203.32  207938.76         239690.04   \n",
       "99    1079.27   46957.82          79927.23  197575.71         225107.82   \n",
       "100    939.45   45294.31          82800.04  189912.22         222612.29   \n",
       "\n",
       "       qtdDOC  valortotalDOC  \n",
       "0        0.00           0.00  \n",
       "1        0.00           0.00  \n",
       "2        0.00           0.00  \n",
       "3       61.89          34.21  \n",
       "4      600.76         616.58  \n",
       "..        ...            ...  \n",
       "96   15222.38       12172.78  \n",
       "97   14376.42       11632.65  \n",
       "98   15322.97       12303.86  \n",
       "99   14455.60       11778.74  \n",
       "100  15709.98       12016.73  \n",
       "\n",
       "[101 rows x 13 columns]"
      ]
     },
     "metadata": {},
     "output_type": "display_data"
    }
   ],
   "source": [
    "df = brpag.rename(columns={\n",
    "                'YearMonth':'AnoMes',\n",
    "                'quantityPix':'qtdPIX',\n",
    "                'valuePix':'valortotalPIX',\n",
    "                'quantityTED':'qtdTED',\n",
    "                'valueTED': 'valortotalTED',\n",
    "                'quantityTEC':'qtdTEC',\n",
    "                'quantityBankCheck':'qtdCheque',\n",
    "                'valueBankCheck':'valortotalCheque',\n",
    "                'quantityBrazilianBoletoPayment':'qtdBoleto',\n",
    "                'valueBrazilianBoletoPayment':'valortotalBoleto',\n",
    "                'quantityDOC':'qtdDOC',\n",
    "                'valueDOC':'valortotalDOC'\n",
    "})\n",
    "\n",
    "display(df)"
   ]
  },
  {
   "cell_type": "markdown",
   "metadata": {},
   "source": [
    "## Seleção de Colunas\n",
    "Selecione apenas as colunas YearMonth, quantityPix, e valuePix e exiba as primeiras 10 linhas"
   ]
  },
  {
   "cell_type": "code",
   "execution_count": 121,
   "metadata": {},
   "outputs": [
    {
     "data": {
      "text/html": [
       "<div>\n",
       "<style scoped>\n",
       "    .dataframe tbody tr th:only-of-type {\n",
       "        vertical-align: middle;\n",
       "    }\n",
       "\n",
       "    .dataframe tbody tr th {\n",
       "        vertical-align: top;\n",
       "    }\n",
       "\n",
       "    .dataframe thead th {\n",
       "        text-align: right;\n",
       "    }\n",
       "</style>\n",
       "<table border=\"1\" class=\"dataframe\">\n",
       "  <thead>\n",
       "    <tr style=\"text-align: right;\">\n",
       "      <th></th>\n",
       "      <th>AnoMes</th>\n",
       "      <th>qtdPIX</th>\n",
       "      <th>valortotalPIX</th>\n",
       "    </tr>\n",
       "  </thead>\n",
       "  <tbody>\n",
       "    <tr>\n",
       "      <th>0</th>\n",
       "      <td>202405</td>\n",
       "      <td>5228826.97</td>\n",
       "      <td>2137205.79</td>\n",
       "    </tr>\n",
       "    <tr>\n",
       "      <th>1</th>\n",
       "      <td>202404</td>\n",
       "      <td>4924681.00</td>\n",
       "      <td>2083746.68</td>\n",
       "    </tr>\n",
       "    <tr>\n",
       "      <th>2</th>\n",
       "      <td>202403</td>\n",
       "      <td>4903392.34</td>\n",
       "      <td>1936188.21</td>\n",
       "    </tr>\n",
       "    <tr>\n",
       "      <th>3</th>\n",
       "      <td>202402</td>\n",
       "      <td>4367133.78</td>\n",
       "      <td>1718217.65</td>\n",
       "    </tr>\n",
       "    <tr>\n",
       "      <th>4</th>\n",
       "      <td>202401</td>\n",
       "      <td>4371541.99</td>\n",
       "      <td>1818473.97</td>\n",
       "    </tr>\n",
       "    <tr>\n",
       "      <th>5</th>\n",
       "      <td>202312</td>\n",
       "      <td>4804459.10</td>\n",
       "      <td>1933836.67</td>\n",
       "    </tr>\n",
       "    <tr>\n",
       "      <th>6</th>\n",
       "      <td>202311</td>\n",
       "      <td>4231283.46</td>\n",
       "      <td>1740874.02</td>\n",
       "    </tr>\n",
       "    <tr>\n",
       "      <th>7</th>\n",
       "      <td>202310</td>\n",
       "      <td>4069683.33</td>\n",
       "      <td>1666062.39</td>\n",
       "    </tr>\n",
       "    <tr>\n",
       "      <th>8</th>\n",
       "      <td>202309</td>\n",
       "      <td>3846749.03</td>\n",
       "      <td>1539042.27</td>\n",
       "    </tr>\n",
       "    <tr>\n",
       "      <th>9</th>\n",
       "      <td>202308</td>\n",
       "      <td>3767327.85</td>\n",
       "      <td>1529362.91</td>\n",
       "    </tr>\n",
       "  </tbody>\n",
       "</table>\n",
       "</div>"
      ],
      "text/plain": [
       "   AnoMes      qtdPIX  valortotalPIX\n",
       "0  202405  5228826.97     2137205.79\n",
       "1  202404  4924681.00     2083746.68\n",
       "2  202403  4903392.34     1936188.21\n",
       "3  202402  4367133.78     1718217.65\n",
       "4  202401  4371541.99     1818473.97\n",
       "5  202312  4804459.10     1933836.67\n",
       "6  202311  4231283.46     1740874.02\n",
       "7  202310  4069683.33     1666062.39\n",
       "8  202309  3846749.03     1539042.27\n",
       "9  202308  3767327.85     1529362.91"
      ]
     },
     "execution_count": 121,
     "metadata": {},
     "output_type": "execute_result"
    }
   ],
   "source": [
    "df.columns\n",
    "df[['AnoMes','qtdPIX','valortotalPIX']].head(10)  #forma correta de selecionar múltiplas colunas é usando uma lista de colunas dentro dos colchetes"
   ]
  },
  {
   "cell_type": "markdown",
   "metadata": {},
   "source": [
    "## Filtragem de Dados\n",
    "Filtre o dataset para exibir apenas as linhas onde o valor total das transações PIX (valuePix) foi maior que 1.000.000.\n"
   ]
  },
  {
   "cell_type": "code",
   "execution_count": 96,
   "metadata": {},
   "outputs": [
    {
     "name": "stdout",
     "output_type": "stream",
     "text": [
      "Index(['AnoMes', 'qtdPIX', 'valortotalPIX', 'qtdTED', 'valortotalTED',\n",
      "       'qtdTEC', 'valueTEC', 'qtdCheque', 'valortotalCheque', 'qtdBoleto',\n",
      "       'valortotalBoleto', 'qtdDOC', 'valortotalDOC'],\n",
      "      dtype='object')\n",
      "<bound method DataFrame.info of      YearMonth  quantityPix    valuePix  quantityTED    valueTED  quantityTEC  \\\n",
      "0       202405   5228826.97  2137205.79     69023.11  3482036.97         0.00   \n",
      "1       202404   4924681.00  2083746.68     70647.15  3652606.48         0.00   \n",
      "2       202403   4903392.34  1936188.21     67565.05  3333054.27         0.00   \n",
      "3       202402   4367133.78  1718217.65     65805.87  2981226.45        60.01   \n",
      "4       202401   4371541.99  1818473.97     70343.25  3337344.85       387.18   \n",
      "..         ...          ...         ...          ...         ...          ...   \n",
      "96      201605         0.00        0.00     38397.79  1284857.76       658.08   \n",
      "97      201604         0.00        0.00     36144.63  1284108.75       586.71   \n",
      "98      201603         0.00        0.00     37762.98  1387738.67       666.89   \n",
      "99      201602         0.00        0.00     33986.29  1184928.57       576.42   \n",
      "100     201601         0.00        0.00     30728.99  1211165.94       499.31   \n",
      "\n",
      "     valueTEC  quantityBankCheck  valueBankCheck  \\\n",
      "0        0.00           10467.85        40133.55   \n",
      "1        0.00           11179.22        43295.40   \n",
      "2        0.00           10122.46        36644.55   \n",
      "3      109.32           10373.38        37076.26   \n",
      "4      815.94           11919.12        41615.89   \n",
      "..        ...                ...             ...   \n",
      "96    1242.92           49391.10        85525.27   \n",
      "97    1029.40           45938.34        79444.79   \n",
      "98    1250.64           50443.05        85203.32   \n",
      "99    1079.27           46957.82        79927.23   \n",
      "100    939.45           45294.31        82800.04   \n",
      "\n",
      "     quantityBrazilianBoletoPayment  valueBrazilianBoletoPayment  quantityDOC  \\\n",
      "0                         349180.92                    506302.82         0.00   \n",
      "1                         361633.28                    524619.69         0.00   \n",
      "2                         336435.46                    469047.59         0.00   \n",
      "3                         332269.47                    463066.01        61.89   \n",
      "4                         363550.32                    516702.44       600.76   \n",
      "..                              ...                          ...          ...   \n",
      "96                        210245.33                    243361.74     15222.38   \n",
      "97                        195789.71                    226725.92     14376.42   \n",
      "98                        207938.76                    239690.04     15322.97   \n",
      "99                        197575.71                    225107.82     14455.60   \n",
      "100                       189912.22                    222612.29     15709.98   \n",
      "\n",
      "     valueDOC  \n",
      "0        0.00  \n",
      "1        0.00  \n",
      "2        0.00  \n",
      "3       34.21  \n",
      "4      616.58  \n",
      "..        ...  \n",
      "96   12172.78  \n",
      "97   11632.65  \n",
      "98   12303.86  \n",
      "99   11778.74  \n",
      "100  12016.73  \n",
      "\n",
      "[101 rows x 13 columns]>\n"
     ]
    }
   ],
   "source": [
    "colunas =df.columns\n",
    "info = brpag.info\n",
    "\n",
    "print(colunas)\n",
    "print(info)"
   ]
  },
  {
   "cell_type": "code",
   "execution_count": null,
   "metadata": {},
   "outputs": [],
   "source": [
    "filtro_vtpix = df[brpag['valortotalPIX']>1000000]  \n",
    "filtro_vtpix"
   ]
  },
  {
   "cell_type": "markdown",
   "metadata": {},
   "source": [
    "## Criação de Nova Coluna\n",
    "Crie uma nova coluna chamada averagePixValue que contenha o valor médio por transação PIX (ou seja, valuePix / quantityPix)."
   ]
  },
  {
   "cell_type": "code",
   "execution_count": null,
   "metadata": {},
   "outputs": [
    {
     "name": "stdout",
     "output_type": "stream",
     "text": [
      "   valortotalPIX      qtdPIX  averagePixValue\n",
      "0     2137205.79  5228826.97         0.408735\n",
      "1     2083746.68  4924681.00         0.423123\n",
      "2     1936188.21  4903392.34         0.394867\n",
      "3     1718217.65  4367133.78         0.393443\n",
      "4     1818473.97  4371541.99         0.415980\n",
      "5     1933836.67  4804459.10         0.402509\n",
      "6     1740874.02  4231283.46         0.411429\n",
      "7     1666062.39  4069683.33         0.409384\n",
      "8     1539042.27  3846749.03         0.400089\n",
      "9     1529362.91  3767327.85         0.405954\n"
     ]
    }
   ],
   "source": [
    "# criação da coluna dividindo\n",
    "brpag['averagePixValue'] = brpag['valortotalPIX'] / brpag['qtdPIX']\n",
    "\n",
    "print(brpag[['valortotalPIX', 'qtdPIX', 'averagePixValue']].head(10))"
   ]
  },
  {
   "cell_type": "markdown",
   "metadata": {},
   "source": [
    "## Agrupamento de Dados (Groupby)\n",
    "Agrupe os dados por ano (dica: extraia o ano da coluna YearMonth) e calcule a soma total do valor das transações PIX (valuePix) para cada ano.\n"
   ]
  },
  {
   "cell_type": "code",
   "execution_count": 124,
   "metadata": {},
   "outputs": [
    {
     "name": "stdout",
     "output_type": "stream",
     "text": [
      "    Ano  valortotalPIX\n",
      "0  2016           0.00\n",
      "1  2017           0.00\n",
      "2  2018           0.00\n",
      "3  2019           0.00\n",
      "4  2020      149894.91\n",
      "5  2021     5204116.61\n",
      "6  2022    10890971.89\n",
      "7  2023    17179392.92\n",
      "8  2024     9693832.30\n"
     ]
    }
   ],
   "source": [
    "#grouped = df.groupby('').sum()\n",
    "#extrair ano de ano.mes\n",
    "df['Ano'] = df['AnoMes'].astype(str).str[:4]\n",
    "#agrupar ano \n",
    "'''resetindex para retornar ano como serie e nao index'''\n",
    "grouped_ano_valorpix = df.groupby('Ano')['valortotalPIX'].sum().reset_index() #sum valortotalPIX  \n",
    "print(grouped_ano_valorpix.head(10))"
   ]
  },
  {
   "cell_type": "markdown",
   "metadata": {},
   "source": [
    "legal de ver a evolução do pix a partir de 2020."
   ]
  },
  {
   "cell_type": "markdown",
   "metadata": {},
   "source": [
    "## Ordenação de Dados\n",
    "Ordene o dataset pela coluna valuePix em ordem decrescente e exiba as 10 transações com os maiores valores.\n"
   ]
  },
  {
   "cell_type": "code",
   "execution_count": 91,
   "metadata": {},
   "outputs": [
    {
     "data": {
      "text/html": [
       "<div>\n",
       "<style scoped>\n",
       "    .dataframe tbody tr th:only-of-type {\n",
       "        vertical-align: middle;\n",
       "    }\n",
       "\n",
       "    .dataframe tbody tr th {\n",
       "        vertical-align: top;\n",
       "    }\n",
       "\n",
       "    .dataframe thead th {\n",
       "        text-align: right;\n",
       "    }\n",
       "</style>\n",
       "<table border=\"1\" class=\"dataframe\">\n",
       "  <thead>\n",
       "    <tr style=\"text-align: right;\">\n",
       "      <th></th>\n",
       "      <th>qtdPIX</th>\n",
       "      <th>valortotalPIX</th>\n",
       "      <th>qtdTED</th>\n",
       "      <th>valortotalTED</th>\n",
       "      <th>qtdTEC</th>\n",
       "      <th>valueTEC</th>\n",
       "      <th>qtdCheque</th>\n",
       "      <th>valortotalCheque</th>\n",
       "      <th>qtdBoleto</th>\n",
       "      <th>valortotalBoleto</th>\n",
       "      <th>qtdDOC</th>\n",
       "      <th>valortotalDOC</th>\n",
       "    </tr>\n",
       "    <tr>\n",
       "      <th>AnoMes</th>\n",
       "      <th></th>\n",
       "      <th></th>\n",
       "      <th></th>\n",
       "      <th></th>\n",
       "      <th></th>\n",
       "      <th></th>\n",
       "      <th></th>\n",
       "      <th></th>\n",
       "      <th></th>\n",
       "      <th></th>\n",
       "      <th></th>\n",
       "      <th></th>\n",
       "    </tr>\n",
       "  </thead>\n",
       "  <tbody>\n",
       "    <tr>\n",
       "      <th>202405</th>\n",
       "      <td>5228826.97</td>\n",
       "      <td>2137205.79</td>\n",
       "      <td>69023.11</td>\n",
       "      <td>3482036.97</td>\n",
       "      <td>0.00</td>\n",
       "      <td>0.00</td>\n",
       "      <td>10467.85</td>\n",
       "      <td>40133.55</td>\n",
       "      <td>349180.92</td>\n",
       "      <td>506302.82</td>\n",
       "      <td>0.00</td>\n",
       "      <td>0.00</td>\n",
       "    </tr>\n",
       "    <tr>\n",
       "      <th>202404</th>\n",
       "      <td>4924681.00</td>\n",
       "      <td>2083746.68</td>\n",
       "      <td>70647.15</td>\n",
       "      <td>3652606.48</td>\n",
       "      <td>0.00</td>\n",
       "      <td>0.00</td>\n",
       "      <td>11179.22</td>\n",
       "      <td>43295.40</td>\n",
       "      <td>361633.28</td>\n",
       "      <td>524619.69</td>\n",
       "      <td>0.00</td>\n",
       "      <td>0.00</td>\n",
       "    </tr>\n",
       "    <tr>\n",
       "      <th>202403</th>\n",
       "      <td>4903392.34</td>\n",
       "      <td>1936188.21</td>\n",
       "      <td>67565.05</td>\n",
       "      <td>3333054.27</td>\n",
       "      <td>0.00</td>\n",
       "      <td>0.00</td>\n",
       "      <td>10122.46</td>\n",
       "      <td>36644.55</td>\n",
       "      <td>336435.46</td>\n",
       "      <td>469047.59</td>\n",
       "      <td>0.00</td>\n",
       "      <td>0.00</td>\n",
       "    </tr>\n",
       "    <tr>\n",
       "      <th>202312</th>\n",
       "      <td>4804459.10</td>\n",
       "      <td>1933836.67</td>\n",
       "      <td>80202.26</td>\n",
       "      <td>3629758.88</td>\n",
       "      <td>1152.37</td>\n",
       "      <td>2498.31</td>\n",
       "      <td>11241.91</td>\n",
       "      <td>39208.22</td>\n",
       "      <td>337552.05</td>\n",
       "      <td>484391.91</td>\n",
       "      <td>1412.03</td>\n",
       "      <td>1399.42</td>\n",
       "    </tr>\n",
       "    <tr>\n",
       "      <th>202401</th>\n",
       "      <td>4371541.99</td>\n",
       "      <td>1818473.97</td>\n",
       "      <td>70343.25</td>\n",
       "      <td>3337344.85</td>\n",
       "      <td>387.18</td>\n",
       "      <td>815.94</td>\n",
       "      <td>11919.12</td>\n",
       "      <td>41615.89</td>\n",
       "      <td>363550.32</td>\n",
       "      <td>516702.44</td>\n",
       "      <td>600.76</td>\n",
       "      <td>616.58</td>\n",
       "    </tr>\n",
       "    <tr>\n",
       "      <th>202311</th>\n",
       "      <td>4231283.46</td>\n",
       "      <td>1740874.02</td>\n",
       "      <td>74398.37</td>\n",
       "      <td>3135994.81</td>\n",
       "      <td>754.56</td>\n",
       "      <td>1711.45</td>\n",
       "      <td>11866.27</td>\n",
       "      <td>40735.16</td>\n",
       "      <td>345234.36</td>\n",
       "      <td>490503.75</td>\n",
       "      <td>1506.38</td>\n",
       "      <td>1521.77</td>\n",
       "    </tr>\n",
       "    <tr>\n",
       "      <th>202402</th>\n",
       "      <td>4367133.78</td>\n",
       "      <td>1718217.65</td>\n",
       "      <td>65805.87</td>\n",
       "      <td>2981226.45</td>\n",
       "      <td>60.01</td>\n",
       "      <td>109.32</td>\n",
       "      <td>10373.38</td>\n",
       "      <td>37076.26</td>\n",
       "      <td>332269.47</td>\n",
       "      <td>463066.01</td>\n",
       "      <td>61.89</td>\n",
       "      <td>34.21</td>\n",
       "    </tr>\n",
       "    <tr>\n",
       "      <th>202310</th>\n",
       "      <td>4069683.33</td>\n",
       "      <td>1666062.39</td>\n",
       "      <td>71870.52</td>\n",
       "      <td>3325168.12</td>\n",
       "      <td>664.92</td>\n",
       "      <td>1578.12</td>\n",
       "      <td>12902.42</td>\n",
       "      <td>46646.90</td>\n",
       "      <td>362721.59</td>\n",
       "      <td>512336.66</td>\n",
       "      <td>1746.38</td>\n",
       "      <td>1763.79</td>\n",
       "    </tr>\n",
       "    <tr>\n",
       "      <th>202309</th>\n",
       "      <td>3846749.03</td>\n",
       "      <td>1539042.27</td>\n",
       "      <td>69407.76</td>\n",
       "      <td>3190049.86</td>\n",
       "      <td>483.31</td>\n",
       "      <td>1085.19</td>\n",
       "      <td>11916.38</td>\n",
       "      <td>41653.43</td>\n",
       "      <td>340115.13</td>\n",
       "      <td>471176.87</td>\n",
       "      <td>2636.88</td>\n",
       "      <td>2532.14</td>\n",
       "    </tr>\n",
       "    <tr>\n",
       "      <th>202308</th>\n",
       "      <td>3767327.85</td>\n",
       "      <td>1529362.91</td>\n",
       "      <td>76572.58</td>\n",
       "      <td>3406864.68</td>\n",
       "      <td>614.09</td>\n",
       "      <td>1481.22</td>\n",
       "      <td>13113.98</td>\n",
       "      <td>46973.84</td>\n",
       "      <td>360865.30</td>\n",
       "      <td>501254.74</td>\n",
       "      <td>5253.95</td>\n",
       "      <td>3197.77</td>\n",
       "    </tr>\n",
       "  </tbody>\n",
       "</table>\n",
       "</div>"
      ],
      "text/plain": [
       "            qtdPIX  valortotalPIX    qtdTED  valortotalTED   qtdTEC  valueTEC  \\\n",
       "AnoMes                                                                          \n",
       "202405  5228826.97     2137205.79  69023.11     3482036.97     0.00      0.00   \n",
       "202404  4924681.00     2083746.68  70647.15     3652606.48     0.00      0.00   \n",
       "202403  4903392.34     1936188.21  67565.05     3333054.27     0.00      0.00   \n",
       "202312  4804459.10     1933836.67  80202.26     3629758.88  1152.37   2498.31   \n",
       "202401  4371541.99     1818473.97  70343.25     3337344.85   387.18    815.94   \n",
       "202311  4231283.46     1740874.02  74398.37     3135994.81   754.56   1711.45   \n",
       "202402  4367133.78     1718217.65  65805.87     2981226.45    60.01    109.32   \n",
       "202310  4069683.33     1666062.39  71870.52     3325168.12   664.92   1578.12   \n",
       "202309  3846749.03     1539042.27  69407.76     3190049.86   483.31   1085.19   \n",
       "202308  3767327.85     1529362.91  76572.58     3406864.68   614.09   1481.22   \n",
       "\n",
       "        qtdCheque  valortotalCheque  qtdBoleto  valortotalBoleto   qtdDOC  \\\n",
       "AnoMes                                                                      \n",
       "202405   10467.85          40133.55  349180.92         506302.82     0.00   \n",
       "202404   11179.22          43295.40  361633.28         524619.69     0.00   \n",
       "202403   10122.46          36644.55  336435.46         469047.59     0.00   \n",
       "202312   11241.91          39208.22  337552.05         484391.91  1412.03   \n",
       "202401   11919.12          41615.89  363550.32         516702.44   600.76   \n",
       "202311   11866.27          40735.16  345234.36         490503.75  1506.38   \n",
       "202402   10373.38          37076.26  332269.47         463066.01    61.89   \n",
       "202310   12902.42          46646.90  362721.59         512336.66  1746.38   \n",
       "202309   11916.38          41653.43  340115.13         471176.87  2636.88   \n",
       "202308   13113.98          46973.84  360865.30         501254.74  5253.95   \n",
       "\n",
       "        valortotalDOC  \n",
       "AnoMes                 \n",
       "202405           0.00  \n",
       "202404           0.00  \n",
       "202403           0.00  \n",
       "202312        1399.42  \n",
       "202401         616.58  \n",
       "202311        1521.77  \n",
       "202402          34.21  \n",
       "202310        1763.79  \n",
       "202309        2532.14  \n",
       "202308        3197.77  "
      ]
     },
     "execution_count": 91,
     "metadata": {},
     "output_type": "execute_result"
    }
   ],
   "source": [
    "#df_ordenado = df.sort_values(by='nome_da_coluna', ascending=True)\n",
    "\n",
    "df_ordenado = df.sort_values(by='valortotalPIX', ascending=False).head(10)\n",
    "df_ordenado"
   ]
  },
  {
   "cell_type": "markdown",
   "metadata": {},
   "source": [
    "## Contagem de Dados\n",
    "Conte quantos meses no dataset tiveram mais de 1.000.000 de transações PIX (quantityPix).\n"
   ]
  },
  {
   "cell_type": "code",
   "execution_count": 125,
   "metadata": {},
   "outputs": [
    {
     "name": "stdout",
     "output_type": "stream",
     "text": [
      "Meses que tiveram mais de 1.000.000 de transações PIX: 12\n"
     ]
    }
   ],
   "source": [
    "#extrair mes\n",
    "df['Mes'] = df['AnoMes'].astype(str).str[-2:]\n",
    "df['Mes']\n",
    "#filtrar 1M\n",
    "filtro1M = df['qtdPIX']>1000000\n",
    "#contagem\n",
    "contagem = df[filtro1M]['Mes'].nunique() #conta os valores unicos -> já que é quantos meses tiveram esse valor de transacoes\n",
    "print('Meses que tiveram mais de 1.000.000 de transações PIX:', contagem)"
   ]
  },
  {
   "cell_type": "markdown",
   "metadata": {},
   "source": [
    "## Média e Mediana\n",
    "Calcule a média e a mediana do valor total das transações TED (valueTED).\n"
   ]
  },
  {
   "cell_type": "code",
   "execution_count": null,
   "metadata": {},
   "outputs": [
    {
     "name": "stdout",
     "output_type": "stream",
     "text": [
      "Média da coluna \"valortotalTED\": 2341739.65\n",
      "Mediana da coluna \"valortotalTED\": 2217642.20\n"
     ]
    }
   ],
   "source": [
    "#valortotalTED\n",
    "#media \n",
    "media = df['valortotalTED'].mean()\n",
    "#mediana\n",
    "mediana = df['valortotalTED'].median()\n",
    "print(f'Média da coluna \"valortotalTED\": {media:.2f}')\n",
    "print(f'Mediana da coluna \"valortotalTED\": {mediana:.2f}')"
   ]
  },
  {
   "cell_type": "markdown",
   "metadata": {},
   "source": [
    "## Agrupamento e Agregação\n",
    "Agrupe os dados por ano e calcule a média do valor das transações de boleto (valueBrazilianBoletoPayment) para cada ano.\n"
   ]
  },
  {
   "cell_type": "code",
   "execution_count": null,
   "metadata": {},
   "outputs": [
    {
     "name": "stdout",
     "output_type": "stream",
     "text": [
      "    Ano  MediaTransacoes_Boleto_pcda_ano\n",
      "0  2016                    235498.225000\n",
      "1  2017                    242441.344167\n",
      "2  2018                    260569.645000\n",
      "3  2019                    292543.355833\n",
      "4  2020                    319431.905833\n",
      "5  2021                    400709.792500\n",
      "6  2022                    458345.465833\n",
      "7  2023                    480105.020833\n",
      "8  2024                    495947.710000\n"
     ]
    }
   ],
   "source": [
    "#count_cargo_mediasalario = funcionarios.groupby('cargos')['salario'].mean()\n",
    "#agrupar por ano\n",
    "'''renomeei a coluna para tornar mais descritiva'''\n",
    "media_vt_boleto_cd_ano=df.groupby('Ano')['valortotalBoleto'].mean().reset_index(name='MediaTransacoes_Boleto_pcda_ano') \n",
    "#media de 'valortotalBoleto para cada ano\n",
    "print(media_vt_boleto_cd_ano)"
   ]
  },
  {
   "cell_type": "code",
   "execution_count": null,
   "metadata": {},
   "outputs": [
    {
     "name": "stdout",
     "output_type": "stream",
     "text": [
      "    Ano Mes  valortotalBoleto\n",
      "0  2016  01         222612.29\n",
      "1  2016  02         225107.82\n",
      "2  2016  03         239690.04\n",
      "3  2016  04         226725.92\n",
      "4  2016  05         243361.74\n",
      "5  2016  06         233880.62\n",
      "6  2016  07         228192.51\n",
      "7  2016  08         253446.63\n",
      "8  2016  09         238398.93\n",
      "9  2016  10         237807.62\n"
     ]
    }
   ],
   "source": [
    "#agrupar por ano e mês e calcular a média de 'valortotalBoleto'\n",
    "media_por_ano_mes = df.groupby(['Ano', 'Mes'])['valortotalBoleto'].mean().reset_index()\n",
    "print(media_por_ano_mes.head(10))"
   ]
  },
  {
   "cell_type": "markdown",
   "metadata": {},
   "source": [
    "## Visualização de Dados\n",
    "Crie um gráfico de linha para mostrar a evolução do valor total das transações PIX (valuePix) ao longo do tempo (use a coluna YearMonth como eixo x).\n"
   ]
  },
  {
   "cell_type": "code",
   "execution_count": 98,
   "metadata": {},
   "outputs": [
    {
     "data": {
      "image/png": "[encoded data removed]",
      "text/plain": [
       "<Figure size 640x480 with 1 Axes>"
      ]
     },
     "metadata": {},
     "output_type": "display_data"
    }
   ],
   "source": [
    "#evolucao do pix ao longo do tempo\n",
    "# print(df.columns)\n",
    "#Definindo 'AnoMes' como índice\n",
    "df.set_index('AnoMes', inplace=True)\n",
    "#Plotando o gráfico de linha\n",
    "df.plot(kind='line', y='valortotalPIX', title='Evolução das transações PIX ao longo do tempo')\n",
    "#Adicionando rótulos aos eixos\n",
    "plt.xlabel('Mês')\n",
    "plt.ylabel('Transações PIX')\n",
    "#Exibindo o gráfico\n",
    "plt.show()\n",
    "\n",
    "\n"
   ]
  },
  {
   "cell_type": "markdown",
   "metadata": {},
   "source": [
    "## Substituição de Valores\n",
    "Substitua todos os valores 0.0 na coluna quantityDOC por NaN (valores nulos).\n",
    "\n"
   ]
  },
  {
   "cell_type": "code",
   "execution_count": null,
   "metadata": {},
   "outputs": [],
   "source": [
    "#df['B'] = df['B'].replace(0, np.nan)\n",
    "df['qtdDOC']=df['qtdDOC'].replace(0, np.nan)\n",
    "print(df.head())"
   ]
  },
  {
   "cell_type": "markdown",
   "metadata": {},
   "source": [
    "## Correlação entre Métodos de Pagamento\n",
    "Calcule a correlação entre o valor total das transações PIX (valuePix) e o valor total das transações TED (valueTED). "
   ]
  },
  {
   "cell_type": "code",
   "execution_count": null,
   "metadata": {},
   "outputs": [],
   "source": [
    "print(df.columns)"
   ]
  },
  {
   "cell_type": "code",
   "execution_count": null,
   "metadata": {},
   "outputs": [],
   "source": [
    "valortotalPIX = df['valortotalPIX']\n",
    "valortotalTED = df['valortotalTED']"
   ]
  },
  {
   "cell_type": "code",
   "execution_count": 108,
   "metadata": {},
   "outputs": [
    {
     "data": {
      "text/plain": [
       "array([[1.        , 0.81325815],\n",
       "       [0.81325815, 1.        ]])"
      ]
     },
     "metadata": {},
     "output_type": "display_data"
    }
   ],
   "source": [
    "#'valortotalPIX' 'valortotalTED\n",
    "corr_PIX_TED= np.corrcoef(valortotalPIX, valortotalTED)\n",
    "display(corr_PIX_TED)"
   ]
  },
  {
   "cell_type": "code",
   "execution_count": 116,
   "metadata": {},
   "outputs": [],
   "source": [
    "from scipy.stats import pearsonr"
   ]
  },
  {
   "cell_type": "code",
   "execution_count": 117,
   "metadata": {},
   "outputs": [
    {
     "name": "stdout",
     "output_type": "stream",
     "text": [
      "Correlação: 0.81\n",
      "P-valor: 0.0000\n"
     ]
    }
   ],
   "source": [
    "# Calculando a correlação e o p-valor\n",
    "#Se o p-valor for menor que 0,05, a correlação é considerada estatisticamente significativa.\n",
    "corr, p_valor = pearsonr(valortotalPIX, valortotalTED)\n",
    "print(f\"Correlação: {corr:.2f}\")\n",
    "print(f\"P-valor: {p_valor:.4f}\")"
   ]
  },
  {
   "cell_type": "code",
   "execution_count": null,
   "metadata": {},
   "outputs": [
    {
     "name": "stdout",
     "output_type": "stream",
     "text": [
      "Coeficiente de correlação entre PIX e TED: 0.8133\n"
     ]
    }
   ],
   "source": [
    "# Cálculo da correlação\n",
    "corr_PIX_TED = np.corrcoef(valortotalPIX, valortotalTED)\n",
    "coeficiente_correlacao = corr_PIX_TED[0, 1]  #extrai o valor da correlação entre as duas variáveis\n",
    "print(f\"Coeficiente de correlação entre PIX e TED: {coeficiente_correlacao:.4f}\")"
   ]
  },
  {
   "cell_type": "code",
   "execution_count": null,
   "metadata": {},
   "outputs": [
    {
     "data": {
      "image/png": "[encoded data removed]",
      "text/plain": [
       "<Figure size 640x480 with 1 Axes>"
      ]
     },
     "metadata": {},
     "output_type": "display_data"
    }
   ],
   "source": [
    "# Gráfico de Dispersão\n",
    "plt.scatter(valortotalPIX, valortotalTED, color='orange', label='Dados')\n",
    "# Calculando a linha de tendência (reta de regressão)\n",
    "coef = np.polyfit(valortotalPIX, valortotalTED, 1)\n",
    "poly1d_fn = np.poly1d(coef)\n",
    "# Adicionando a linha de tendência\n",
    "plt.plot(valortotalPIX, poly1d_fn(valortotalPIX), color='red', label='Linha de Tendência')\n",
    "# Ajustando o gráfico\n",
    "plt.title('Correlação entre total de transações PIX e transações TED')\n",
    "plt.xlabel('PIX')\n",
    "plt.ylabel('TED')\n",
    "plt.legend()\n",
    "plt.grid(True)\n",
    "plt.show()"
   ]
  },
  {
   "cell_type": "markdown",
   "metadata": {},
   "source": [
    "### O que você pode inferir sobre a relação entre esses dois métodos de pagamento?\n",
    "\n",
    "O p-valor praticamente zero confirma que esta correlação é muito relevante e não ocorreu por acaso.\n",
    "Os dados demonstram, com significância estatística (r=0,81, p=0,0000), que PIX e TED não são concorrentes diretos como muitos poderiam supor, mas sim ferramentas complementares no sistema de pagamentos. Quando a atividade econômica aumenta, os serviços de transação como TED e PIX, crescem em paralelo, sugerindo que atendem a diferentes necessidades específicas dos usuários."
   ]
  },
  {
   "cell_type": "markdown",
   "metadata": {},
   "source": [
    "## Comparação de Crescimento entre PIX e TED\n",
    "Compare o crescimento percentual do valor total das transações PIX (valuePix) e TED (valueTED) ao longo do tempo.\n"
   ]
  },
  {
   "cell_type": "markdown",
   "metadata": {},
   "source": [
    "Crescimento percentual = ((Valor atual / Valor anterior) - 1) * 100"
   ]
  },
  {
   "cell_type": "code",
   "execution_count": 126,
   "metadata": {},
   "outputs": [
    {
     "name": "stdout",
     "output_type": "stream",
     "text": [
      "Index(['AnoMes', 'qtdPIX', 'valortotalPIX', 'qtdTED', 'valortotalTED',\n",
      "       'qtdTEC', 'valueTEC', 'qtdCheque', 'valortotalCheque', 'qtdBoleto',\n",
      "       'valortotalBoleto', 'qtdDOC', 'valortotalDOC', 'Ano', 'Mes'],\n",
      "      dtype='object')\n"
     ]
    }
   ],
   "source": [
    "print(df.columns)"
   ]
  },
  {
   "cell_type": "code",
   "execution_count": 127,
   "metadata": {},
   "outputs": [
    {
     "data": {
      "image/png": "[encoded data removed]",
      "text/plain": [
       "<Figure size 1200x700 with 1 Axes>"
      ]
     },
     "metadata": {},
     "output_type": "display_data"
    }
   ],
   "source": [
    "# Usando a coluna 'ano' como índice para facilitar a plotagem\n",
    "df.set_index('Ano', inplace=True)\n",
    "\n",
    "# Calcular crescimento percentual acumulado para PIX e TED\n",
    "df['PIX_Crescimento_Acumulado(%)'] = (df['valortotalPIX'] / df['valortotalPIX'].iloc[0] - 1) * 100\n",
    "df['TED_Crescimento_Acumulado(%)'] = (df['valortotalTED'] / df['valortotalTED'].iloc[0] - 1) * 100\n",
    "\n",
    "# Plotar comparação de crescimento usando Pandas\n",
    "df[['PIX_Crescimento_Acumulado(%)', 'TED_Crescimento_Acumulado(%)']].plot(\n",
    "    figsize=(12, 7),\n",
    "    linewidth=2,\n",
    "    grid=True,\n",
    "    title='Comparativo de Crescimento Percentual: PIX vs TED'\n",
    ")\n",
    "plt.ylabel('Crescimento Percentual (%)')\n",
    "plt.xlabel('Ano')\n",
    "plt.tight_layout()\n",
    "plt.savefig('crescimento_pix_ted.png', dpi=300)  # Salva o gráfico\n",
    "plt.show()"
   ]
  },
  {
   "cell_type": "markdown",
   "metadata": {},
   "source": [
    "No gráfico em questão, é possível observar claramente o surgimento do PIX em 2020 e seu crescimento acelerado desde então.Esse crescimento pode ser atribuído a algumas vantagens-chave do PIX em relação aos métodos tradicionais, como:\n",
    "\n",
    "- Instantaneidade: As transações são concluídas em segundos, 24 horas por dia, incluindo fins de semana e feriados.\n",
    "\n",
    "- Custo zero para usuários finais: Diferente de métodos como TED, que muitas vezes têm taxas associadas.\n",
    "\n",
    "- Facilidade de uso: Basta utilizar uma chave (CPF, e-mail, telefone) para realizar transações, sem necessidade de dados bancários complexos.\n",
    "\n",
    "Apesar do crescimento expressivo do PIX, é interessante notar que as transações via TED não foram completamente substituídas. Isso pode ser explicado por alguns fatores:\n",
    "\n",
    "- Hábito e confiança: Muitos usuários e empresas ainda confiam no TED por ser um método consolidado e amplamente utilizado no mercado.\n",
    "\n",
    "- Transações de alto valor: Em alguns casos, o TED ainda é preferido para transferências de valores elevados, devido a questões de segurança ou políticas internas de instituições financeiras.\n",
    "\n",
    "- Integração com sistemas legados: Empresas e sistemas financeiros mais antigos podem ainda depender do TED por questões de compatibilidade ou processos já estabelecidos.\n",
    "\n",
    "Além disso, ao analisar a correlação entre as transações PIX e TED, percebe-se que, embora o PIX tenha se tornado uma opção mais simples e rápida para o usuário final, isso não foi um fator determinante para a diminuição significativa das transações via TED. Isso sugere que os dois métodos coexistem, atendendo a necessidades diferentes e complementares no mercado de pagamentos."
   ]
  },
  {
   "cell_type": "markdown",
   "metadata": {},
   "source": [
    "## Participação de Cada Método de Pagamento\n",
    "Calcule a participação percentual de cada método de pagamento (PIX, TED, TEC, Boleto, DOC) no valor total das transações para o último mês disponível no dataset."
   ]
  },
  {
   "cell_type": "markdown",
   "metadata": {},
   "source": [
    "Agrupar os dados por método de pagamento e somar os valores.\n",
    "\n",
    "Calcular o valor total das transações.\n",
    "\n",
    "Calcular a participação percentual de cada método de pagamento"
   ]
  },
  {
   "cell_type": "code",
   "execution_count": 129,
   "metadata": {},
   "outputs": [
    {
     "name": "stdout",
     "output_type": "stream",
     "text": [
      "Index(['AnoMes', 'qtdPIX', 'valortotalPIX', 'qtdTED', 'valortotalTED',\n",
      "       'qtdTEC', 'valueTEC', 'qtdCheque', 'valortotalCheque', 'qtdBoleto',\n",
      "       'valortotalBoleto', 'qtdDOC', 'valortotalDOC', 'Mes',\n",
      "       'PIX_Crescimento_Acumulado(%)', 'TED_Crescimento_Acumulado(%)'],\n",
      "      dtype='object')\n"
     ]
    }
   ],
   "source": [
    "print(df.columns)"
   ]
  },
  {
   "cell_type": "code",
   "execution_count": 131,
   "metadata": {},
   "outputs": [
    {
     "name": "stdout",
     "output_type": "stream",
     "text": [
      "valortotalPIX       14.06\n",
      "valortotalTED       75.40\n",
      "valueTEC             0.07\n",
      "valortotalBoleto    10.21\n",
      "valortotalDOC        0.27\n",
      "dtype: float64\n"
     ]
    }
   ],
   "source": [
    "#Passo 1: Filtrar os dados para o último mês disponível\n",
    "ultimo_mes = df['Mes'].max()  # Encontra o último mês\n",
    "df_ultimo_mes = df[df['Mes'] == ultimo_mes]\n",
    "\n",
    "# Passo 2: Somar os valores de cada método de pagamento no último mês\n",
    "total_por_metodo = df_ultimo_mes[['valortotalPIX', 'valortotalTED', 'valueTEC', 'valortotalBoleto', 'valortotalDOC']].sum()\n",
    "\n",
    "# Passo 3: Calcular o valor total das transações no último mês\n",
    "total_transacoes = total_por_metodo.sum()\n",
    "\n",
    "# Passo 4: Calcular a participação percentual de cada método de pagamento\n",
    "participacao_percentual = (total_por_metodo / total_transacoes * 100).round(2)\n",
    "\n",
    "# Exibir o resultado\n",
    "print(participacao_percentual)"
   ]
  },
  {
   "cell_type": "markdown",
   "metadata": {},
   "source": [
    "Os números mostram um mercado em transição. Enquanto o TED ainda é o líder incontestável em termos de valor, o PIX está ganhando terreno rapidamente, especialmente para transações do dia a dia. A tendência é que, nos próximos anos, o PIX se consolide como o principal método de pagamento, enquanto o TED continuará sendo relevante para transações de alto valor e usos específicos.\n",
    "\n",
    "O que isso significa para o futuro?\n",
    "\n",
    "Para consumidores, mais praticidade, agilidade e economia com o PIX. Para empresas, o alerta para a necessidade de se adaptar às novas tecnologias e oferecer opções de pagamento modernas. Para o mercado financeiro, fica o fato que a concorrência entre métodos de pagamento deve impulsionar inovações e melhorias contínuas."
   ]
  },
  {
   "cell_type": "code",
   "execution_count": null,
   "metadata": {},
   "outputs": [],
   "source": []
  }
 ],
 "metadata": {
  "kernelspec": {
   "display_name": "Python 3",
   "language": "python",
   "name": "python3"
  },
  "language_info": {
   "codemirror_mode": {
    "name": "ipython",
    "version": 3
   },
   "file_extension": ".py",
   "mimetype": "text/x-python",
   "name": "python",
   "nbconvert_exporter": "python",
   "pygments_lexer": "ipython3",
   "version": "3.13.2"
  }
 },
 "nbformat": 4,
 "nbformat_minor": 2
}
